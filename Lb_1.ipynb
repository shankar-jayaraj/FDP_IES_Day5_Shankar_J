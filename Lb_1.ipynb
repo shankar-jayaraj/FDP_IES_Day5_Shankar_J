{
 "cells": [
  {
   "cell_type": "markdown",
   "id": "c46b3b89",
   "metadata": {},
   "source": [
    "Author: Shankar J  \n",
    "Website: https://shankar-jayaraj.github.io/  \n",
    "LinkedIn: https://www.linkedin.com/in/drshankarj  \n",
    "Licensed under CC BY-NC-SA 4.0. "
   ]
  },
  {
   "cell_type": "markdown",
   "id": "0146cb8c",
   "metadata": {},
   "source": [
    "##  vector operations using NumPy"
   ]
  },
  {
   "cell_type": "code",
   "execution_count": 44,
   "id": "7827c5b2",
   "metadata": {},
   "outputs": [
    {
     "name": "stdout",
     "output_type": "stream",
     "text": [
      "[3 4]\n",
      "[1 2]\n"
     ]
    }
   ],
   "source": [
    "import numpy as np\n",
    "\n",
    "# Create vectors\n",
    "v1 = np.array([3, 4])\n",
    "v2 = np.array([1, 2])\n",
    "print(v1)  # [3, 4]\n",
    "print(v2)  # [1, 2]"
   ]
  },
  {
   "cell_type": "code",
   "execution_count": 45,
   "id": "17ec7513",
   "metadata": {},
   "outputs": [
    {
     "name": "stdout",
     "output_type": "stream",
     "text": [
      "[4 6]\n"
     ]
    }
   ],
   "source": [
    "\n",
    "# Vector addition\n",
    "v_sum = v1 + v2  # [4, 6]\n",
    "print(v_sum)\n"
   ]
  },
  {
   "cell_type": "code",
   "execution_count": 46,
   "id": "77741d9a",
   "metadata": {},
   "outputs": [
    {
     "name": "stdout",
     "output_type": "stream",
     "text": [
      "[3 4]\n",
      "[6 8]\n"
     ]
    }
   ],
   "source": [
    "\n",
    "\n",
    "# Scalar multiplication\n",
    "v_scaled = 2 * v1  # [6, 8]\n",
    "\n",
    "print(v1)\n",
    "\n",
    "print(v_scaled)  # [6, 8]\n"
   ]
  },
  {
   "cell_type": "code",
   "execution_count": 50,
   "id": "928408f7",
   "metadata": {},
   "outputs": [
    {
     "name": "stdout",
     "output_type": "stream",
     "text": [
      "L1 norm:7\n",
      "L2 norm:5.0\n",
      "L∞ norm:4\n"
     ]
    }
   ],
   "source": [
    "\n",
    "# Calculate norms\n",
    "l1_norm = np.sum(np.abs(v1))  # 7\n",
    "l2_norm = np.linalg.norm(v1)  # 5.0\n",
    "linf_norm = np.max(np.abs(v1))  # 4\n",
    "print(f'L1 norm:{l1_norm}')  # 7\n",
    "print(f'L2 norm:{l2_norm}')  # 5.0\n",
    "print(f'L∞ norm:{linf_norm}')  # 4"
   ]
  },
  {
   "cell_type": "code",
   "execution_count": 51,
   "id": "ba59b3e9",
   "metadata": {},
   "outputs": [
    {
     "name": "stdout",
     "output_type": "stream",
     "text": [
      "Dot Product: 11\n"
     ]
    }
   ],
   "source": [
    "\n",
    "# Dot product\n",
    "dot_product = np.dot(v1, v2)  # 11\n",
    "print(f'Dot Product: {dot_product}')  # 11"
   ]
  },
  {
   "cell_type": "code",
   "execution_count": 53,
   "id": "178ec5d9",
   "metadata": {},
   "outputs": [
    {
     "name": "stdout",
     "output_type": "stream",
     "text": [
      "Dot Product: 0\n"
     ]
    }
   ],
   "source": [
    "\n",
    "\n",
    "# Check orthogonality\n",
    "u1 = np.array([1, 0])\n",
    "u2 = np.array([0, 1])\n",
    "print(f'Dot Product: {np.dot(u1, u2)}')  # 0 (orthogonal)\n"
   ]
  },
  {
   "cell_type": "markdown",
   "id": "2bebef25",
   "metadata": {},
   "source": [
    "## Matrix operations in NumPy"
   ]
  },
  {
   "cell_type": "code",
   "execution_count": 55,
   "id": "a633348f",
   "metadata": {},
   "outputs": [
    {
     "name": "stdout",
     "output_type": "stream",
     "text": [
      "A:\n",
      "[[1 2]\n",
      " [3 4]]\n",
      "B:\n",
      "[[5 6]\n",
      " [7 8]]\n"
     ]
    }
   ],
   "source": [
    "import numpy as np\n",
    "\n",
    "# Create matrices\n",
    "A = np.array([[1, 2], [3, 4]])\n",
    "B = np.array([[5, 6], [7, 8]])\n",
    "print(f'A:\\n{A}')  # [[1, 2], [3, 4]]\n",
    "print(f'B:\\n{B}')  # [[5, 6], [7, 8]]"
   ]
  },
  {
   "cell_type": "code",
   "execution_count": 57,
   "id": "1794470b",
   "metadata": {},
   "outputs": [
    {
     "name": "stdout",
     "output_type": "stream",
     "text": [
      "C (A + B):\n",
      "[[ 6  8]\n",
      " [10 12]]\n"
     ]
    }
   ],
   "source": [
    "# Matrix addition\n",
    "C = A + B  # [[6, 8], [10, 12]]\n",
    "print(f'C (A + B):\\n{C}')  # [[6, 8], [10, 12]]"
   ]
  },
  {
   "cell_type": "code",
   "execution_count": 58,
   "id": "6b9c2379",
   "metadata": {},
   "outputs": [
    {
     "name": "stdout",
     "output_type": "stream",
     "text": [
      "D (A @ B):\n",
      "[[19 22]\n",
      " [43 50]]\n"
     ]
    }
   ],
   "source": [
    "# Matrix multiplication\n",
    "D = A @ B  # [[19, 22], [43, 50]]\n",
    "print(f'D (A @ B):\\n{D}')  # [[19, 22], [43, 50]]"
   ]
  },
  {
   "cell_type": "code",
   "execution_count": 59,
   "id": "beb14c03",
   "metadata": {},
   "outputs": [
    {
     "name": "stdout",
     "output_type": "stream",
     "text": [
      "A Transpose:\n",
      "[[1 3]\n",
      " [2 4]]\n"
     ]
    }
   ],
   "source": [
    "# Transpose\n",
    "A_T = A.T  # [[1, 3], [2, 4]]\n",
    "print(f'A Transpose:\\n{A_T}')  # [[1, 3], [2, 4]]"
   ]
  },
  {
   "cell_type": "code",
   "execution_count": 60,
   "id": "e4e58c20",
   "metadata": {},
   "outputs": [
    {
     "name": "stdout",
     "output_type": "stream",
     "text": [
      "Rank of A: 2\n"
     ]
    }
   ],
   "source": [
    "# Check rank\n",
    "rank = np.linalg.matrix_rank(A)\n",
    "print(f'Rank of A: {rank}')  # 2 (full rank for 2x2 matrix)"
   ]
  },
  {
   "cell_type": "code",
   "execution_count": null,
   "id": "01ffe86b",
   "metadata": {},
   "outputs": [],
   "source": []
  }
 ],
 "metadata": {
  "language_info": {
   "name": "python"
  }
 },
 "nbformat": 4,
 "nbformat_minor": 5
}
