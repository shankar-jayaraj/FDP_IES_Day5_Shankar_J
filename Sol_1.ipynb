{
 "cells": [
  {
   "cell_type": "code",
   "execution_count": 24,
   "id": "bb72ff71",
   "metadata": {},
   "outputs": [],
   "source": [
    "import numpy as np\n",
    "import matplotlib.pyplot as plt\n",
    "import pandas as pd\n",
    "from scipy.linalg import svd, eig\n",
    "import seaborn as sns"
   ]
  },
  {
   "cell_type": "markdown",
   "id": "8ce13d92",
   "metadata": {},
   "source": [
    "### Assessment and Practice Problems"
   ]
  },
  {
   "cell_type": "code",
   "execution_count": 25,
   "id": "f8a1ebfc",
   "metadata": {},
   "outputs": [
    {
     "name": "stdout",
     "output_type": "stream",
     "text": [
      "Original matrix A:\n",
      "[[1 2]\n",
      " [3 4]\n",
      " [5 6]]\n"
     ]
    }
   ],
   "source": [
    "import numpy as np\n",
    "\n",
    "# Define the matrix\n",
    "test_matrix = np.array([[1, 2], [3, 4], [5, 6]])\n",
    "print(\"Original matrix A:\")\n",
    "print(test_matrix)"
   ]
  },
  {
   "cell_type": "code",
   "execution_count": 26,
   "id": "84ddd022",
   "metadata": {},
   "outputs": [
    {
     "name": "stdout",
     "output_type": "stream",
     "text": [
      "\n",
      "2. Eigenvalues of A^T * A:\n",
      "[ 0.26450509 90.73549491]\n",
      "Eigenvectors of A^T * A:\n",
      "[[-0.78489445  0.61962948]\n",
      " [ 0.61962948  0.78489445]]\n"
     ]
    }
   ],
   "source": [
    "# Step 2: Compute eigenvalues and eigenvectors of A^T * A\n",
    "eigenvals, V = np.linalg.eigh(AtA)\n",
    "print(\"\\n2. Eigenvalues of A^T * A:\")\n",
    "print(eigenvals)\n",
    "print(\"Eigenvectors of A^T * A:\")\n",
    "print(V)"
   ]
  },
  {
   "cell_type": "code",
   "execution_count": 27,
   "id": "4cc52af6",
   "metadata": {},
   "outputs": [
    {
     "name": "stdout",
     "output_type": "stream",
     "text": [
      "\n",
      "3. Singular values (σ):\n",
      "[9.52551809 0.51430058]\n"
     ]
    }
   ],
   "source": [
    "# Step 3: Sort eigenvalues/eigenvectors in descending order\n",
    "idx = eigenvals.argsort()[::-1]\n",
    "eigenvals_sorted = eigenvals[idx]\n",
    "V_sorted = V[:, idx]\n",
    "\n",
    "# Step 4: Compute singular values (σ = sqrt(λ))\n",
    "singular_values = np.sqrt(eigenvals_sorted)\n",
    "print(\"\\n3. Singular values (σ):\")\n",
    "print(singular_values)"
   ]
  },
  {
   "cell_type": "code",
   "execution_count": 28,
   "id": "c1389f19",
   "metadata": {},
   "outputs": [
    {
     "name": "stdout",
     "output_type": "stream",
     "text": [
      "\n",
      "4. Sigma matrix (Σ):\n",
      "[[9.52551809 0.        ]\n",
      " [0.         0.51430058]\n",
      " [0.         0.        ]]\n"
     ]
    }
   ],
   "source": [
    "\n",
    "# Step 5: Construct Σ matrix\n",
    "Sigma = np.zeros(test_matrix.shape)\n",
    "np.fill_diagonal(Sigma, singular_values)\n",
    "print(\"\\n4. Sigma matrix (Σ):\")\n",
    "print(Sigma)"
   ]
  },
  {
   "cell_type": "code",
   "execution_count": 29,
   "id": "40ee4364",
   "metadata": {},
   "outputs": [
    {
     "name": "stdout",
     "output_type": "stream",
     "text": [
      "\n",
      "5. Matrix U:\n",
      "[[ 0.2298477   0.88346102 -0.40824829]\n",
      " [ 0.52474482  0.24078249  0.81649658]\n",
      " [ 0.81964194 -0.40189603 -0.40824829]]\n"
     ]
    }
   ],
   "source": [
    "# Step 6: Compute U using U = A * V * Σ⁻¹\n",
    "U_columns = []\n",
    "for i in range(len(singular_values)):\n",
    "    if not np.isclose(singular_values[i], 0):\n",
    "        u_col = (test_matrix @ V_sorted[:, i]) / singular_values[i]\n",
    "        U_columns.append(u_col)\n",
    "\n",
    "# Add orthogonal vector for null space\n",
    "U = np.column_stack(U_columns)\n",
    "cross_product = np.cross(U[:,0], U[:,1])\n",
    "U = np.column_stack((U, cross_product / np.linalg.norm(cross_product)))\n",
    "\n",
    "print(\"\\n5. Matrix U:\")\n",
    "print(U)"
   ]
  },
  {
   "cell_type": "code",
   "execution_count": 30,
   "id": "3c089575",
   "metadata": {},
   "outputs": [
    {
     "name": "stdout",
     "output_type": "stream",
     "text": [
      "\n",
      "6. Reconstructed A = U * Σ * V^T:\n",
      "[[1. 2.]\n",
      " [3. 4.]\n",
      " [5. 6.]]\n",
      "\n",
      "Reconstruction error: 1.0877919644084146e-15\n"
     ]
    }
   ],
   "source": [
    "# Step 7: Verify reconstruction\n",
    "A_reconstructed = U @ Sigma @ V_sorted.T\n",
    "print(\"\\n6. Reconstructed A = U * Σ * V^T:\")\n",
    "print(A_reconstructed)\n",
    "print(\"\\nReconstruction error:\", np.linalg.norm(test_matrix - A_reconstructed))"
   ]
  },
  {
   "cell_type": "code",
   "execution_count": null,
   "id": "927c02eb",
   "metadata": {},
   "outputs": [],
   "source": []
  },
  {
   "cell_type": "code",
   "execution_count": null,
   "id": "589264f2",
   "metadata": {},
   "outputs": [],
   "source": []
  },
  {
   "cell_type": "code",
   "execution_count": null,
   "id": "6356744e",
   "metadata": {},
   "outputs": [],
   "source": []
  },
  {
   "cell_type": "code",
   "execution_count": null,
   "id": "28877378",
   "metadata": {},
   "outputs": [],
   "source": []
  },
  {
   "cell_type": "code",
   "execution_count": null,
   "id": "e1cba623",
   "metadata": {},
   "outputs": [],
   "source": []
  },
  {
   "cell_type": "code",
   "execution_count": null,
   "id": "304857f3",
   "metadata": {},
   "outputs": [],
   "source": []
  },
  {
   "cell_type": "code",
   "execution_count": null,
   "id": "493a5172",
   "metadata": {},
   "outputs": [],
   "source": []
  },
  {
   "cell_type": "code",
   "execution_count": null,
   "id": "0d5b7b4f",
   "metadata": {},
   "outputs": [],
   "source": []
  },
  {
   "cell_type": "code",
   "execution_count": null,
   "id": "b2818a17",
   "metadata": {},
   "outputs": [],
   "source": []
  }
 ],
 "metadata": {
  "kernelspec": {
   "display_name": "data_analytics",
   "language": "python",
   "name": "data_analytics"
  },
  "language_info": {
   "codemirror_mode": {
    "name": "ipython",
    "version": 3
   },
   "file_extension": ".py",
   "mimetype": "text/x-python",
   "name": "python",
   "nbconvert_exporter": "python",
   "pygments_lexer": "ipython3",
   "version": "3.10.13"
  }
 },
 "nbformat": 4,
 "nbformat_minor": 5
}
